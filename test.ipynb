{
 "cells": [
  {
   "cell_type": "markdown",
   "id": "32066af7",
   "metadata": {},
   "source": [
    "test if python lists are connected"
   ]
  },
  {
   "cell_type": "code",
   "execution_count": 6,
   "id": "0bfd9b9b",
   "metadata": {},
   "outputs": [
    {
     "name": "stdout",
     "output_type": "stream",
     "text": [
      "[1, 2, 3, 4]\n",
      "[1, 2, 3, 4]\n"
     ]
    }
   ],
   "source": [
    "deck = [1, 2, 3, 4]\n",
    "d2 = deck\n",
    "print(deck)\n",
    "print(d2)"
   ]
  },
  {
   "cell_type": "code",
   "execution_count": 7,
   "id": "dda060fb",
   "metadata": {
    "scrolled": true
   },
   "outputs": [
    {
     "name": "stdout",
     "output_type": "stream",
     "text": [
      "[1, 3, 4]\n",
      "[1, 3, 4]\n"
     ]
    }
   ],
   "source": [
    "d2.remove(2)\n",
    "print(d2)\n",
    "print(deck)"
   ]
  },
  {
   "cell_type": "markdown",
   "id": "24f0ce3d",
   "metadata": {},
   "source": [
    "test difference of lists"
   ]
  },
  {
   "cell_type": "code",
   "execution_count": 8,
   "id": "19c0bda0",
   "metadata": {},
   "outputs": [],
   "source": [
    "suits = (\"spades\", \"hearts\", \"clubs\")\n",
    "cards = (\"spades\", \"hearts\")"
   ]
  },
  {
   "cell_type": "code",
   "execution_count": 9,
   "id": "f449bbbe",
   "metadata": {},
   "outputs": [
    {
     "name": "stdout",
     "output_type": "stream",
     "text": [
      "['clubs']\n"
     ]
    }
   ],
   "source": [
    "c = list(set(suits) - set(cards))\n",
    "print(c)"
   ]
  },
  {
   "cell_type": "code",
   "execution_count": null,
   "id": "3b0e7fcf",
   "metadata": {},
   "outputs": [],
   "source": []
  }
 ],
 "metadata": {
  "kernelspec": {
   "display_name": "Python 3 (ipykernel)",
   "language": "python",
   "name": "python3"
  },
  "language_info": {
   "codemirror_mode": {
    "name": "ipython",
    "version": 3
   },
   "file_extension": ".py",
   "mimetype": "text/x-python",
   "name": "python",
   "nbconvert_exporter": "python",
   "pygments_lexer": "ipython3",
   "version": "3.9.7"
  }
 },
 "nbformat": 4,
 "nbformat_minor": 5
}
